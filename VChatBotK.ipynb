{
  "nbformat": 4,
  "nbformat_minor": 0,
  "metadata": {
    "colab": {
      "provenance": [],
      "collapsed_sections": [],
      "include_colab_link": true
    },
    "kernelspec": {
      "name": "python3",
      "display_name": "Python 3"
    },
    "language_info": {
      "name": "python"
    }
  },
  "cells": [
    {
      "cell_type": "markdown",
      "metadata": {
        "id": "view-in-github",
        "colab_type": "text"
      },
      "source": [
        "<a href=\"https://colab.research.google.com/github/VasilisaKashperko/VChatBotK/blob/main/VChatBotK.ipynb\" target=\"_parent\"><img src=\"https://colab.research.google.com/assets/colab-badge.svg\" alt=\"Open In Colab\"/></a>"
      ]
    },
    {
      "cell_type": "code",
      "metadata": {
        "id": "XWT7m6tAZfnx"
      },
      "source": [
        "import random\n",
        "import nltk"
      ],
      "execution_count": null,
      "outputs": []
    },
    {
      "cell_type": "code",
      "metadata": {
        "id": "I_rSOCLhV6rq"
      },
      "source": [
        "BOT_CONFIG = {\n",
        "    'intents': {\n",
        "        'hello': {\n",
        "            'examples': ['Привет!', 'Приветик', 'Хэллоу', 'Ку', 'Хай'],\n",
        "            'responces': ['Здравствуйте!', 'Привет!', 'Доброго дня', 'Я так долго ждал тебя! Привет!']\n",
        "        },\n",
        "        'bye': {\n",
        "            'examples': ['Пока', 'Увидимся', 'До свидания'],\n",
        "            'responces': ['Пиши мне чаще. Пока!', 'Рад был познакомиться', 'Пока!', 'До свидания!']\n",
        "        },\n",
        "        'howdoyoudo': {\n",
        "            'examples': ['Как дела?', 'Как поживаешь?', 'Чем живешь?', 'Как ты?'],\n",
        "            'responces': ['Неплохо', 'Не жалуюсь', 'Всё хорошо!']\n",
        "        },\n",
        "        'theweather': {\n",
        "            'examples': ['Как погода?', 'Какая погодка?', 'Что за окном?'],\n",
        "            'responces': ['Солнечно', 'Дождь :(', 'Сейчас у меня ночь, я не знаю']\n",
        "        },\n",
        "        'wishes': {\n",
        "            'examples': ['Я хочу тортик', 'Купи мне кольцо', 'Заведем кота?'],\n",
        "            'responces': ['Жди, уже несу', 'Извини, я не могу сейчас помочь тебе в этом', 'Посмотрим на твоё поведение']\n",
        "        },\n",
        "        'usersmood': {\n",
        "            'examples': ['Мне грустно', 'Я ничего не хочу', 'Мне скучно'],\n",
        "            'responces': ['Все будет хорошо', 'Мы это исправим', 'Успокойся и постарайся не преувеличивать']\n",
        "        },\n",
        "        'mission': {\n",
        "            'examples': ['Какая у тебя миссия?', 'Зачем тебя создали?', 'Зачем ты?'],\n",
        "            'responces': ['Я помогаю людям от скуки', 'Меня создала девчонка, спроси у нее :)', 'Если бы я сам знал...']\n",
        "        },\n",
        "        'aggression': {\n",
        "            'examples': ['Ты меня бесишь', 'Как ты такое можешь говорить', 'Это возмутительно!'],\n",
        "            'responces': ['Извини, пожалуйста, я больше так не буду', 'Прошу прощения, я сейчас позову разработчиков', 'Я не хотел']\n",
        "        },\n",
        "        'compliments': {\n",
        "            'examples': ['Ты классный', 'Ты умный', 'Ты лучший'],\n",
        "            'responces': ['Спасибо, ты тоже', 'Соглашусь', 'Ты только что описал и себя тоже', 'Я тоже тебя люблю <3']\n",
        "        },\n",
        "        'questions': {\n",
        "            'examples': ['Мы поженимся?', 'Она меня любит?', 'Погуляем?', 'Стоит идти?'],\n",
        "            'responces': ['Не думаю, пока что нет', 'Да', 'Нет']\n",
        "        }        \n",
        "    }\n",
        "}"
      ],
      "execution_count": null,
      "outputs": []
    },
    {
      "cell_type": "code",
      "metadata": {
        "id": "ryySxFEyXFwG"
      },
      "source": [
        "def clean(text):\n",
        "  output_text = ''\n",
        "  for char in text.lower():\n",
        "    if char in 'абвгдеёжзийклмнопрстуфхцчшщъыьэюя':\n",
        "      output_text = output_text + char\n",
        "  return output_text\n",
        "\n",
        "def get_intent(text):\n",
        "  for intent in BOT_CONFIG['intents'].keys():\n",
        "    for example in BOT_CONFIG['intents'][intent]['examples']:\n",
        "      text1 = clean(example)\n",
        "      text2 = clean(text)\n",
        "      if len(text1) != 0 and len(text2) != 0:\n",
        "        if nltk.edit_distance(text1, text2) / max(len(text1), len(text2)) < 0.4:\n",
        "          return intent\n",
        "  return 'Не удалось определить интент'"
      ],
      "execution_count": null,
      "outputs": []
    },
    {
      "cell_type": "code",
      "metadata": {
        "id": "QpBX-8TvYVUr"
      },
      "source": [
        "def bot(input_text):\n",
        "  intent = get_intent(input_text)\n",
        "  if intent != 'Не удалось определить интент':\n",
        "    return random.choice(BOT_CONFIG['intents'][intent]['responces'])\n",
        "  else:\n",
        "    return 'Извините, я ничего не понял. Я просто глупый бот.'"
      ],
      "execution_count": null,
      "outputs": []
    },
    {
      "cell_type": "code",
      "metadata": {
        "id": "tByJztErYY4h"
      },
      "source": [
        "мinput_text = ''\n",
        "while input_text != 'Завершить работу!':\n",
        "  input_text = input()\n",
        "  print(bot(input_text))"
      ],
      "execution_count": null,
      "outputs": []
    }
  ]
}